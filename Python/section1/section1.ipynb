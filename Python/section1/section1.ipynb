{
 "cells": [
  {
   "cell_type": "markdown",
   "metadata": {},
   "source": [
    "# Section 1: Variable and Operations\n",
    "\n",
    "In Python and any other programming languages, we need to store data in the computer's memory. \n",
    "We can do this by assigning a variable to the data. \n",
    "\n",
    "In this section, we will learn how to store data in the computer's memory by using variables. \n",
    "\n",
    "We will also learn about the different types of data we can store in variables. \n",
    "\n",
    "Finally, we will learn about the different operations we can perform on variables."
   ]
  },
  {
   "cell_type": "markdown",
   "metadata": {},
   "source": [
    "## 1.1 Constants and Variables\n",
    "\n",
    "Today, we will learn about two types of data: constants and variables.\n",
    "\n",
    "* Constants are fixed values that do not change during a program.\n",
    "* Variables are values that can change during a program."
   ]
  },
  {
   "cell_type": "code",
   "execution_count": 4,
   "metadata": {},
   "outputs": [
    {
     "name": "stdout",
     "output_type": "stream",
     "text": [
      "3 3.14 Hello World\n"
     ]
    }
   ],
   "source": [
    "# Example of a constant\n",
    "3\n",
    "\n",
    "# Another example of a constant\n",
    "3.14\n",
    "\n",
    "# Another example of a constant\n",
    "\"Hello World\"\n",
    "\n",
    "print(3, 3.14, \"Hello World\")"
   ]
  },
  {
   "cell_type": "markdown",
   "metadata": {},
   "source": [
    "**Note**: the `print()` function is used to display what is inside the parentheses (brackets).\n",
    "\n",
    "* In a Jupiter Notebook, the last line of a cell is automatically printed."
   ]
  },
  {
   "cell_type": "code",
   "execution_count": 5,
   "metadata": {},
   "outputs": [
    {
     "data": {
      "text/plain": [
       "(3, 3.14, 'Hello World')"
      ]
     },
     "execution_count": 5,
     "metadata": {},
     "output_type": "execute_result"
    }
   ],
   "source": [
    "3, 3.14, \"Hello World\""
   ]
  },
  {
   "cell_type": "code",
   "execution_count": 7,
   "metadata": {},
   "outputs": [
    {
     "name": "stdout",
     "output_type": "stream",
     "text": [
      "Hello World\n"
     ]
    }
   ],
   "source": [
    "# Example of a variable\n",
    "x = 3\n",
    "\n",
    "x = 3.14\n",
    "\n",
    "x = \"Hello World\"\n",
    "\n",
    "print(x)"
   ]
  },
  {
   "cell_type": "markdown",
   "metadata": {},
   "source": [
    "**Note**: the value of `x` changes from `3` to `3.14`, and then to `\"Hello World\"`."
   ]
  },
  {
   "cell_type": "markdown",
   "metadata": {},
   "source": [
    "## 1.2 Variable Names\n",
    "\n",
    "In Python, we can name variables using letters, numbers, and underscores.\n",
    "\n",
    "* We cannot start a variable name with a number.\n",
    "* We cannot use spaces in a variable name.\n",
    "* We cannot use special characters in a variable name, except for the underscore.\n",
    "* We cannot use Python keywords as variable names."
   ]
  },
  {
   "cell_type": "code",
   "execution_count": 6,
   "metadata": {},
   "outputs": [],
   "source": [
    "# Example of a good variable name\n",
    "my_variable = 3"
   ]
  },
  {
   "cell_type": "code",
   "execution_count": 9,
   "metadata": {},
   "outputs": [
    {
     "ename": "SyntaxError",
     "evalue": "invalid decimal literal (1937578369.py, line 2)",
     "output_type": "error",
     "traceback": [
      "\u001b[1;36m  Cell \u001b[1;32mIn[9], line 2\u001b[1;36m\u001b[0m\n\u001b[1;33m    1st_variable = 3\u001b[0m\n\u001b[1;37m    ^\u001b[0m\n\u001b[1;31mSyntaxError\u001b[0m\u001b[1;31m:\u001b[0m invalid decimal literal\n"
     ]
    }
   ],
   "source": [
    "# Example of a bad variable name\n",
    "1st_variable = 3"
   ]
  },
  {
   "cell_type": "code",
   "execution_count": 7,
   "metadata": {},
   "outputs": [
    {
     "ename": "SyntaxError",
     "evalue": "cannot assign to expression here. Maybe you meant '==' instead of '='? (4276082334.py, line 2)",
     "output_type": "error",
     "traceback": [
      "\u001b[0;36m  Cell \u001b[0;32mIn[7], line 2\u001b[0;36m\u001b[0m\n\u001b[0;31m    my - variable = 3\u001b[0m\n\u001b[0m    ^\u001b[0m\n\u001b[0;31mSyntaxError\u001b[0m\u001b[0;31m:\u001b[0m cannot assign to expression here. Maybe you meant '==' instead of '='?\n"
     ]
    }
   ],
   "source": [
    "# Example of another bad variable name\n",
    "my - variable = 3"
   ]
  },
  {
   "cell_type": "code",
   "execution_count": 40,
   "metadata": {},
   "outputs": [
    {
     "ename": "SyntaxError",
     "evalue": "cannot assign to True (23732059.py, line 2)",
     "output_type": "error",
     "traceback": [
      "\u001b[1;36m  Cell \u001b[1;32mIn[40], line 2\u001b[1;36m\u001b[0m\n\u001b[1;33m    True = 3\u001b[0m\n\u001b[1;37m    ^\u001b[0m\n\u001b[1;31mSyntaxError\u001b[0m\u001b[1;31m:\u001b[0m cannot assign to True\n"
     ]
    }
   ],
   "source": [
    "# Example of another bad variable name\n",
    "True = 3"
   ]
  },
  {
   "cell_type": "markdown",
   "metadata": {},
   "source": [
    "**Note**: Python prints error messages if we try to use invalid variable names."
   ]
  },
  {
   "cell_type": "markdown",
   "metadata": {},
   "source": [
    "## 1.3 Variable Types\n",
    "\n",
    "In Python, we can store different types of data in variables.\n",
    "\n",
    "* Integer: a whole number, positive or negative, without decimals.\n",
    "* Float: a number, positive or negative, containing one or more decimals.\n",
    "* String: a sequence of characters, enclosed in single or double quotes.\n",
    "* Boolean: a value that is either `True` or `False`."
   ]
  },
  {
   "cell_type": "code",
   "execution_count": 11,
   "metadata": {},
   "outputs": [],
   "source": [
    "# Example of an integer\n",
    "x = 3\n",
    "\n",
    "# Example of a float\n",
    "y = 3.14\n",
    "\n",
    "# Example of a string\n",
    "z = \"Hello World\"\n",
    "\n",
    "# Example of a boolean (True or False)\n",
    "a = True"
   ]
  },
  {
   "cell_type": "markdown",
   "metadata": {},
   "source": [
    "## 1.4 Variable Operations\n",
    "\n",
    "In Python, we can perform different operations on variables.\n",
    "\n",
    "* Addition: `+`\n",
    "* Subtraction: `-`\n",
    "* Multiplication: `*`\n",
    "* Division: `/`\n",
    "* Exponentiation: `**`\n",
    "* Modulo: `%`\n",
    "* Floor Division: `//`\n",
    "\n",
    "The order of operations in Python is the same as in mathematics.\n",
    "\n",
    "* Parentheses: `()`\n",
    "\n",
    "We can also perform operations on strings.\n",
    "\n",
    "* Concatenation: `+`\n",
    "* Repetition: `*`"
   ]
  },
  {
   "cell_type": "code",
   "execution_count": 14,
   "metadata": {},
   "outputs": [
    {
     "name": "stdout",
     "output_type": "stream",
     "text": [
      "6.33\n",
      "6.33\n"
     ]
    }
   ],
   "source": [
    "# Operations on integers and floats\n",
    "\n",
    "# Addition\n",
    "print(3 + 3.33)\n",
    "\n",
    "x = 3\n",
    "y = 3.33\n",
    "\n",
    "print(x + y)"
   ]
  },
  {
   "cell_type": "code",
   "execution_count": 17,
   "metadata": {},
   "outputs": [
    {
     "name": "stdout",
     "output_type": "stream",
     "text": [
      "0.875\n",
      "0.875\n"
     ]
    }
   ],
   "source": [
    "# Subtraction\n",
    "print(3 - 2.125)\n",
    "\n",
    "x = 3\n",
    "y = 2.125\n",
    "\n",
    "print(x - y)"
   ]
  },
  {
   "cell_type": "code",
   "execution_count": 20,
   "metadata": {},
   "outputs": [
    {
     "name": "stdout",
     "output_type": "stream",
     "text": [
      "9\n",
      "15\n",
      "12\n",
      "36\n"
     ]
    }
   ],
   "source": [
    "# Order of operations\n",
    "print(3 + 2 * 3)\n",
    "\n",
    "print((3 + 2) * 3)\n",
    "\n",
    "# With exponents\n",
    "print(3 * 2**2)\n",
    "\n",
    "print((3 * 2)**2)"
   ]
  },
  {
   "cell_type": "code",
   "execution_count": 10,
   "metadata": {},
   "outputs": [
    {
     "name": "stdout",
     "output_type": "stream",
     "text": [
      "Hello World\n",
      "HelloHelloHello\n"
     ]
    }
   ],
   "source": [
    "# Operations on strings\n",
    "\n",
    "# Concatenation\n",
    "print(\"Hello \" + \"World\")\n",
    "\n",
    "# Repetition\n",
    "print(\"Hello\" * 3)"
   ]
  },
  {
   "cell_type": "markdown",
   "metadata": {},
   "source": [
    "## 1.5 Logical Operators\n",
    "\n",
    "In Python, we can also perform logical operations on variables.\n",
    "\n",
    "* Equal to: `==`\n",
    "* Not equal to: `!=`\n",
    "* Greater than: `>`\n",
    "* Less than: `<`\n",
    "* Greater than or equal to: `>=`\n",
    "* Less than or equal to: `<=`\n",
    "\n",
    "The result of a logical operation is a Boolean value."
   ]
  },
  {
   "cell_type": "code",
   "execution_count": 12,
   "metadata": {},
   "outputs": [
    {
     "name": "stdout",
     "output_type": "stream",
     "text": [
      "True\n",
      "False\n",
      "False\n"
     ]
    }
   ],
   "source": [
    "# Logical operators\n",
    "\n",
    "# Equality\n",
    "print(3 == 3)\n",
    "\n",
    "print(3 == 4)\n",
    "\n",
    "print(100==5)"
   ]
  },
  {
   "cell_type": "code",
   "execution_count": 25,
   "metadata": {},
   "outputs": [
    {
     "name": "stdout",
     "output_type": "stream",
     "text": [
      "False\n",
      "True\n"
     ]
    }
   ],
   "source": [
    "# Inequality\n",
    "print(3 != 3)\n",
    "\n",
    "print(3 != 4)"
   ]
  },
  {
   "cell_type": "code",
   "execution_count": 13,
   "metadata": {},
   "outputs": [
    {
     "name": "stdout",
     "output_type": "stream",
     "text": [
      "False\n",
      "False\n",
      "True\n"
     ]
    }
   ],
   "source": [
    "# Greater than\n",
    "print(3 > 3)\n",
    "\n",
    "print(3 > 4)\n",
    "\n",
    "print(100 > 5)"
   ]
  },
  {
   "cell_type": "markdown",
   "metadata": {},
   "source": [
    "## Combining Logical Operators\n",
    "\n",
    "In Python, we can combine logical operations using the following keywords.\n",
    "\n",
    "* `and`\n",
    "* `or`\n",
    "* `not`"
   ]
  },
  {
   "cell_type": "code",
   "execution_count": 27,
   "metadata": {},
   "outputs": [
    {
     "name": "stdout",
     "output_type": "stream",
     "text": [
      "True\n",
      "False\n"
     ]
    }
   ],
   "source": [
    "# Combining logical operators\n",
    "\n",
    "# And\n",
    "print((3 > 2) and (3 < 4))\n",
    "\n",
    "print((3 > 2) and (3 > 4))"
   ]
  },
  {
   "cell_type": "code",
   "execution_count": 22,
   "metadata": {},
   "outputs": [
    {
     "name": "stdout",
     "output_type": "stream",
     "text": [
      "True\n",
      "False\n"
     ]
    }
   ],
   "source": [
    "# Or\n",
    "\n",
    "print((3 > 2) or (3 > 4))\n",
    "\n",
    "print((3 < 2) or (3 > 4))"
   ]
  },
  {
   "cell_type": "code",
   "execution_count": 29,
   "metadata": {},
   "outputs": [
    {
     "name": "stdout",
     "output_type": "stream",
     "text": [
      "False\n",
      "True\n"
     ]
    }
   ],
   "source": [
    "# Not\n",
    "\n",
    "print(not (3 > 2))\n",
    "\n",
    "print(not (3 < 2))"
   ]
  },
  {
   "cell_type": "markdown",
   "metadata": {},
   "source": [
    "## 1.6 Input and Output\n",
    "\n",
    "In Python, we can get user input using the `input()` function.\n",
    "\n",
    "The `input()` function always returns a string, so we need to convert it to the appropriate type if we want to perform operations on it."
   ]
  },
  {
   "cell_type": "code",
   "execution_count": 23,
   "metadata": {},
   "outputs": [],
   "source": [
    "# Example of getting user input\n",
    "user_input = input(\"Enter a number: \")\n",
    "\n",
    "print(user_input)"
   ]
  },
  {
   "cell_type": "markdown",
   "metadata": {},
   "source": [
    "You can also do arithmetic operations on the user's input."
   ]
  },
  {
   "cell_type": "code",
   "execution_count": null,
   "metadata": {},
   "outputs": [],
   "source": [
    "# Example of doing arithmetic operations on user input\n",
    "user_input = input(\"Enter a number: \")\n",
    "\n",
    "print(int(user_input) + 1)           # Convert the user's input to an integer and add 1"
   ]
  },
  {
   "cell_type": "markdown",
   "metadata": {},
   "source": [
    "## 1.7 try except\n",
    "\n",
    "In Python, we can use the `try` and `except` keywords to handle errors before they occur, and give the user a chance to correct their input."
   ]
  },
  {
   "cell_type": "code",
   "execution_count": null,
   "metadata": {},
   "outputs": [],
   "source": [
    "# Example of using try except\n",
    "try:\n",
    "    user_input = int(input(\"Enter a number: \"))\n",
    "    print(user_input + 1)\n",
    "except:\n",
    "    print(\"Please enter a valid number.\")"
   ]
  },
  {
   "cell_type": "markdown",
   "metadata": {},
   "source": [
    "## 1.8 Simple For loop\n",
    "\n",
    "In Python, we can use the `for` loop to iterate over a sequence of values."
   ]
  },
  {
   "cell_type": "code",
   "execution_count": null,
   "metadata": {},
   "outputs": [],
   "source": [
    "# Example of a simple for loop\n",
    "for i in range(5):\n",
    "    print(i)                         # Print the current value of i"
   ]
  },
  {
   "cell_type": "markdown",
   "metadata": {},
   "source": [
    "Here, `range(5)` generates a sequence of numbers from 0 to 4.\n",
    "\n",
    "We can also use the `for` loop to iterate over a sequence of values in a list."
   ]
  },
  {
   "cell_type": "code",
   "execution_count": null,
   "metadata": {},
   "outputs": [],
   "source": [
    "list_of_numbers = [1, 2, 3, 4, 5]\n",
    "\n",
    "for number in list_of_numbers:\n",
    "    print(number)"
   ]
  },
  {
   "cell_type": "markdown",
   "metadata": {},
   "source": [
    "## 1.9 Lists and Tuples\n",
    "\n",
    "In Python, we can store a sequence of values in a list or a tuple.\n",
    "\n",
    "* Lists are mutable, meaning we can change their values.\n",
    "* Tuples are immutable, meaning we cannot change their values."
   ]
  },
  {
   "cell_type": "code",
   "execution_count": null,
   "metadata": {},
   "outputs": [],
   "source": [
    "# Example of a list\n",
    "my_list = [1, 2, 3, 4, 5]\n",
    "\n",
    "# Example of a tuple\n",
    "my_tuple = (1, 2, 3, 4, 5)"
   ]
  },
  {
   "cell_type": "code",
   "execution_count": null,
   "metadata": {},
   "outputs": [],
   "source": [
    "print(my_list)"
   ]
  },
  {
   "cell_type": "code",
   "execution_count": null,
   "metadata": {},
   "outputs": [],
   "source": [
    "print(my_tuple)"
   ]
  },
  {
   "cell_type": "markdown",
   "metadata": {},
   "source": [
    "Changing the values in a list doesn't give us an error, but it changes the list."
   ]
  },
  {
   "cell_type": "code",
   "execution_count": null,
   "metadata": {},
   "outputs": [],
   "source": [
    "my_list[0] = 10\n",
    "\n",
    "print(my_list)"
   ]
  },
  {
   "cell_type": "markdown",
   "metadata": {},
   "source": [
    "Changing the values in a tuple gives us an error."
   ]
  },
  {
   "cell_type": "code",
   "execution_count": null,
   "metadata": {},
   "outputs": [],
   "source": [
    "my_tuple[0] = 10"
   ]
  }
 ],
 "metadata": {
  "kernelspec": {
   "display_name": "base",
   "language": "python",
   "name": "python3"
  },
  "language_info": {
   "codemirror_mode": {
    "name": "ipython",
    "version": 3
   },
   "file_extension": ".py",
   "mimetype": "text/x-python",
   "name": "python",
   "nbconvert_exporter": "python",
   "pygments_lexer": "ipython3",
   "version": "3.12.4"
  }
 },
 "nbformat": 4,
 "nbformat_minor": 2
}
