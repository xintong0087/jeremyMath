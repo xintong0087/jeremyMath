{
 "cells": [
  {
   "cell_type": "markdown",
   "metadata": {},
   "source": [
    "# Section 1: Variable and Operations\n",
    "\n",
    "In Python and any other programming languages, we need to store data in the computer's memory. \n",
    "We can do this by assigning a variable to the data. \n",
    "\n",
    "In this section, we will learn how to store data in the computer's memory by using variables. \n",
    "\n",
    "We will also learn about the different types of data we can store in variables. \n",
    "\n",
    "Finally, we will learn about the different operations we can perform on variables."
   ]
  },
  {
   "cell_type": "markdown",
   "metadata": {},
   "source": [
    "## 1.1 Constants and Variables\n",
    "\n",
    "Today, we will learn about two types of data: constants and variables.\n",
    "\n",
    "* Constants are fixed values that do not change during a program.\n",
    "* Variables are values that can change during a program."
   ]
  },
  {
   "cell_type": "code",
   "execution_count": 4,
   "metadata": {},
   "outputs": [
    {
     "name": "stdout",
     "output_type": "stream",
     "text": [
      "3 3.14 Hello World\n"
     ]
    }
   ],
   "source": [
    "# Example of a constant\n",
    "3\n",
    "\n",
    "# Another example of a constant\n",
    "3.14\n",
    "\n",
    "# Another example of a constant\n",
    "\"Hello World\"\n",
    "\n",
    "print(3, 3.14, \"Hello World\")"
   ]
  },
  {
   "cell_type": "markdown",
   "metadata": {},
   "source": [
    "**Note**: the `print()` function is used to display what is inside the parentheses (brackets).\n",
    "\n",
    "* In a Jupiter Notebook, the last line of a cell is automatically printed."
   ]
  },
  {
   "cell_type": "code",
   "execution_count": 5,
   "metadata": {},
   "outputs": [
    {
     "data": {
      "text/plain": [
       "(3, 3.14, 'Hello World')"
      ]
     },
     "execution_count": 5,
     "metadata": {},
     "output_type": "execute_result"
    }
   ],
   "source": [
    "3, 3.14, \"Hello World\""
   ]
  },
  {
   "cell_type": "code",
   "execution_count": 7,
   "metadata": {},
   "outputs": [
    {
     "name": "stdout",
     "output_type": "stream",
     "text": [
      "Hello World\n"
     ]
    }
   ],
   "source": [
    "# Example of a variable\n",
    "x = 3\n",
    "\n",
    "x = 3.14\n",
    "\n",
    "x = \"Hello World\"\n",
    "\n",
    "print(x)"
   ]
  },
  {
   "cell_type": "markdown",
   "metadata": {},
   "source": [
    "**Note**: the value of `x` changes from `3` to `3.14`, and then to `\"Hello World\"`."
   ]
  },
  {
   "cell_type": "markdown",
   "metadata": {},
   "source": [
    "## 1.2 Variable Names\n",
    "\n",
    "In Python, we can name variables using letters, numbers, and underscores.\n",
    "\n",
    "* We cannot start a variable name with a number.\n",
    "* We cannot use spaces in a variable name.\n",
    "* We cannot use special characters in a variable name, except for the underscore.\n",
    "* We cannot use Python keywords as variable names."
   ]
  },
  {
   "cell_type": "code",
   "execution_count": 8,
   "metadata": {},
   "outputs": [],
   "source": [
    "# Example of a good variable name\n",
    "my_variable = 3"
   ]
  },
  {
   "cell_type": "code",
   "execution_count": 9,
   "metadata": {},
   "outputs": [
    {
     "ename": "SyntaxError",
     "evalue": "invalid decimal literal (1937578369.py, line 2)",
     "output_type": "error",
     "traceback": [
      "\u001b[1;36m  Cell \u001b[1;32mIn[9], line 2\u001b[1;36m\u001b[0m\n\u001b[1;33m    1st_variable = 3\u001b[0m\n\u001b[1;37m    ^\u001b[0m\n\u001b[1;31mSyntaxError\u001b[0m\u001b[1;31m:\u001b[0m invalid decimal literal\n"
     ]
    }
   ],
   "source": [
    "# Example of a bad variable name\n",
    "1st_variable = 3"
   ]
  },
  {
   "cell_type": "code",
   "execution_count": 39,
   "metadata": {},
   "outputs": [
    {
     "ename": "SyntaxError",
     "evalue": "cannot assign to expression here. Maybe you meant '==' instead of '='? (3367452202.py, line 2)",
     "output_type": "error",
     "traceback": [
      "\u001b[1;36m  Cell \u001b[1;32mIn[39], line 2\u001b[1;36m\u001b[0m\n\u001b[1;33m    my-variable = 3\u001b[0m\n\u001b[1;37m    ^\u001b[0m\n\u001b[1;31mSyntaxError\u001b[0m\u001b[1;31m:\u001b[0m cannot assign to expression here. Maybe you meant '==' instead of '='?\n"
     ]
    }
   ],
   "source": [
    "# Example of another bad variable name\n",
    "my-variable = 3"
   ]
  },
  {
   "cell_type": "code",
   "execution_count": 40,
   "metadata": {},
   "outputs": [
    {
     "ename": "SyntaxError",
     "evalue": "cannot assign to True (23732059.py, line 2)",
     "output_type": "error",
     "traceback": [
      "\u001b[1;36m  Cell \u001b[1;32mIn[40], line 2\u001b[1;36m\u001b[0m\n\u001b[1;33m    True = 3\u001b[0m\n\u001b[1;37m    ^\u001b[0m\n\u001b[1;31mSyntaxError\u001b[0m\u001b[1;31m:\u001b[0m cannot assign to True\n"
     ]
    }
   ],
   "source": [
    "# Example of another bad variable name\n",
    "True = 3"
   ]
  },
  {
   "cell_type": "markdown",
   "metadata": {},
   "source": [
    "**Note**: Python prints error messages if we try to use invalid variable names."
   ]
  },
  {
   "cell_type": "markdown",
   "metadata": {},
   "source": [
    "## 1.3 Variable Types\n",
    "\n",
    "In Python, we can store different types of data in variables.\n",
    "\n",
    "* Integer: a whole number, positive or negative, without decimals.\n",
    "* Float: a number, positive or negative, containing one or more decimals.\n",
    "* String: a sequence of characters, enclosed in single or double quotes.\n",
    "* Boolean: a value that is either `True` or `False`."
   ]
  },
  {
   "cell_type": "code",
   "execution_count": 11,
   "metadata": {},
   "outputs": [],
   "source": [
    "# Example of an integer\n",
    "x = 3\n",
    "\n",
    "# Example of a float\n",
    "y = 3.14\n",
    "\n",
    "# Example of a string\n",
    "z = \"Hello World\"\n",
    "\n",
    "# Example of a boolean\n",
    "a = True"
   ]
  },
  {
   "cell_type": "markdown",
   "metadata": {},
   "source": [
    "## 1.4 Variable Operations\n",
    "\n",
    "In Python, we can perform different operations on variables.\n",
    "\n",
    "* Addition: `+`\n",
    "* Subtraction: `-`\n",
    "* Multiplication: `*`\n",
    "* Division: `/`\n",
    "* Exponentiation: `**`\n",
    "* Modulo: `%`\n",
    "* Floor Division: `//`\n",
    "\n",
    "The order of operations in Python is the same as in mathematics.\n",
    "\n",
    "* Parentheses: `()`\n",
    "\n",
    "We can also perform operations on strings.\n",
    "\n",
    "* Concatenation: `+`\n",
    "* Repetition: `*`"
   ]
  },
  {
   "cell_type": "code",
   "execution_count": 14,
   "metadata": {},
   "outputs": [
    {
     "name": "stdout",
     "output_type": "stream",
     "text": [
      "6.33\n",
      "6.33\n"
     ]
    }
   ],
   "source": [
    "# Operations on integers and floats\n",
    "\n",
    "# Addition\n",
    "print(3 + 3.33)\n",
    "\n",
    "x = 3\n",
    "y = 3.33\n",
    "\n",
    "print(x + y)"
   ]
  },
  {
   "cell_type": "code",
   "execution_count": 17,
   "metadata": {},
   "outputs": [
    {
     "name": "stdout",
     "output_type": "stream",
     "text": [
      "0.875\n",
      "0.875\n"
     ]
    }
   ],
   "source": [
    "# Subtraction\n",
    "print(3 - 2.125)\n",
    "\n",
    "x = 3\n",
    "y = 2.125\n",
    "\n",
    "print(x - y)"
   ]
  },
  {
   "cell_type": "code",
   "execution_count": 20,
   "metadata": {},
   "outputs": [
    {
     "name": "stdout",
     "output_type": "stream",
     "text": [
      "9\n",
      "15\n",
      "12\n",
      "36\n"
     ]
    }
   ],
   "source": [
    "# Order of operations\n",
    "print(3 + 2 * 3)\n",
    "\n",
    "print((3 + 2) * 3)\n",
    "\n",
    "# With exponents\n",
    "print(3 * 2**2)\n",
    "\n",
    "print((3 * 2)**2)"
   ]
  },
  {
   "cell_type": "code",
   "execution_count": 22,
   "metadata": {},
   "outputs": [
    {
     "name": "stdout",
     "output_type": "stream",
     "text": [
      "HelloWorld\n",
      "HelloHelloHello\n"
     ]
    }
   ],
   "source": [
    "# Operations on strings\n",
    "\n",
    "# Concatenation\n",
    "print(\"Hello\" + \"World\")\n",
    "\n",
    "# Repetition\n",
    "print(\"Hello\" * 3)"
   ]
  },
  {
   "cell_type": "markdown",
   "metadata": {},
   "source": [
    "## Logical Operators\n",
    "\n",
    "In Python, we can also perform logical operations on variables.\n",
    "\n",
    "* Equal to: `==`\n",
    "* Not equal to: `!=`\n",
    "* Greater than: `>`\n",
    "* Less than: `<`\n",
    "* Greater than or equal to: `>=`\n",
    "* Less than or equal to: `<=`\n",
    "\n",
    "The result of a logical operation is a Boolean value."
   ]
  },
  {
   "cell_type": "code",
   "execution_count": 24,
   "metadata": {},
   "outputs": [
    {
     "name": "stdout",
     "output_type": "stream",
     "text": [
      "True\n",
      "False\n"
     ]
    }
   ],
   "source": [
    "# Logical operators\n",
    "\n",
    "# Equality\n",
    "print(3 == 3)\n",
    "\n",
    "print(3 == 4)"
   ]
  },
  {
   "cell_type": "code",
   "execution_count": 25,
   "metadata": {},
   "outputs": [
    {
     "name": "stdout",
     "output_type": "stream",
     "text": [
      "False\n",
      "True\n"
     ]
    }
   ],
   "source": [
    "# Inequality\n",
    "print(3 != 3)\n",
    "\n",
    "print(3 != 4)"
   ]
  },
  {
   "cell_type": "code",
   "execution_count": 26,
   "metadata": {},
   "outputs": [
    {
     "name": "stdout",
     "output_type": "stream",
     "text": [
      "False\n",
      "False\n"
     ]
    }
   ],
   "source": [
    "# Greater than\n",
    "print(3 > 3)\n",
    "\n",
    "print(3 > 4)"
   ]
  },
  {
   "cell_type": "markdown",
   "metadata": {},
   "source": [
    "## Combining Logical Operators\n",
    "\n",
    "In Python, we can combine logical operations using the following keywords.\n",
    "\n",
    "* `and`\n",
    "* `or`\n",
    "* `not`"
   ]
  },
  {
   "cell_type": "code",
   "execution_count": 27,
   "metadata": {},
   "outputs": [
    {
     "name": "stdout",
     "output_type": "stream",
     "text": [
      "True\n",
      "False\n"
     ]
    }
   ],
   "source": [
    "# Combining logical operators\n",
    "\n",
    "# And\n",
    "print((3 > 2) and (3 < 4))\n",
    "\n",
    "print((3 > 2) and (3 > 4))"
   ]
  },
  {
   "cell_type": "code",
   "execution_count": 30,
   "metadata": {},
   "outputs": [
    {
     "name": "stdout",
     "output_type": "stream",
     "text": [
      "True\n",
      "False\n"
     ]
    }
   ],
   "source": [
    "# Or\n",
    "\n",
    "print((3 > 2) or (3 > 4))\n",
    "\n",
    "print((3 < 2) or (3 > 4))"
   ]
  },
  {
   "cell_type": "code",
   "execution_count": 29,
   "metadata": {},
   "outputs": [
    {
     "name": "stdout",
     "output_type": "stream",
     "text": [
      "False\n",
      "True\n"
     ]
    }
   ],
   "source": [
    "# Not\n",
    "\n",
    "print(not (3 > 2))\n",
    "\n",
    "print(not (3 < 2))"
   ]
  },
  {
   "cell_type": "markdown",
   "metadata": {},
   "source": [
    "## Practical Examples\n",
    "\n",
    "In Python, we can use variables and logical operators to solve practical problems.\n",
    "\n",
    "* Example 1: Calculate the area of a rectangle.\n",
    "\n",
    "* Example 2: Check if a number is even or odd."
   ]
  },
  {
   "cell_type": "code",
   "execution_count": 31,
   "metadata": {},
   "outputs": [
    {
     "name": "stdout",
     "output_type": "stream",
     "text": [
      "10\n"
     ]
    }
   ],
   "source": [
    "# Example 1: Calculate the area of a rectangle\n",
    "\n",
    "# Input\n",
    "length = 5\n",
    "width = 2\n",
    "\n",
    "# Process\n",
    "area = length * width\n",
    "\n",
    "# Output\n",
    "print(area)"
   ]
  },
  {
   "cell_type": "code",
   "execution_count": 32,
   "metadata": {},
   "outputs": [
    {
     "name": "stdout",
     "output_type": "stream",
     "text": [
      "False\n"
     ]
    }
   ],
   "source": [
    "# Example 2: Check if a number is even or odd\n",
    "\n",
    "# Input\n",
    "number = 5\n",
    "\n",
    "# Process\n",
    "is_even = (number % 2 == 0)\n",
    "\n",
    "# Output\n",
    "print(is_even)"
   ]
  },
  {
   "cell_type": "markdown",
   "metadata": {},
   "source": [
    "## Assignment\n",
    "\n",
    "1. Write a program that checks if a number is positive or negative.\n",
    "\n",
    "2. Write a program that prints the year-1 value of an investment with a given principal amount and interest rate.\n",
    "\n",
    "3. Write a program that prints a given string 5 times."
   ]
  },
  {
   "cell_type": "code",
   "execution_count": 35,
   "metadata": {},
   "outputs": [
    {
     "name": "stdout",
     "output_type": "stream",
     "text": [
      "0\n"
     ]
    }
   ],
   "source": [
    "# Program 1: Check if a number is positive, negative\n",
    "\n",
    "# Input\n",
    "number = 5\n",
    "\n",
    "# Process\n",
    "is_positive = 0\n",
    "\n",
    "# Output\n",
    "print(is_positive)"
   ]
  },
  {
   "cell_type": "code",
   "execution_count": 36,
   "metadata": {},
   "outputs": [
    {
     "name": "stdout",
     "output_type": "stream",
     "text": [
      "0\n"
     ]
    }
   ],
   "source": [
    "# Program 2: Find the year-1 value of an investment with a given principal amount and interest rate.\n",
    "\n",
    "# Input\n",
    "principal = 100\n",
    "interest_rate = 0.05\n",
    "\n",
    "# Process\n",
    "year_1_value = 0\n",
    "\n",
    "# Output\n",
    "print(year_1_value)"
   ]
  },
  {
   "cell_type": "code",
   "execution_count": 38,
   "metadata": {},
   "outputs": [
    {
     "name": "stdout",
     "output_type": "stream",
     "text": [
      "0\n"
     ]
    }
   ],
   "source": [
    "# Program 3: Print a given string 5 times\n",
    "\n",
    "# Input\n",
    "string = \"Hello World\"\n",
    "\n",
    "# Output\n",
    "print(0)"
   ]
  },
  {
   "cell_type": "markdown",
   "metadata": {},
   "source": [
    "## Extra assignment: \n",
    "\n",
    "1. Check a number is divisible by 3 or divisible by 5 \n",
    "\n",
    "2. Check a number is divisible by 3 and divisible by 5"
   ]
  }
 ],
 "metadata": {
  "kernelspec": {
   "display_name": "base",
   "language": "python",
   "name": "python3"
  },
  "language_info": {
   "codemirror_mode": {
    "name": "ipython",
    "version": 3
   },
   "file_extension": ".py",
   "mimetype": "text/x-python",
   "name": "python",
   "nbconvert_exporter": "python",
   "pygments_lexer": "ipython3",
   "version": "3.11.5"
  }
 },
 "nbformat": 4,
 "nbformat_minor": 2
}
