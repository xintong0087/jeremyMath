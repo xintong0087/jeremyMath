{
 "cells": [
  {
   "cell_type": "markdown",
   "metadata": {},
   "source": [
    "## Methods used:\n",
    "\n",
    "1. print()\n",
    "2. f\"{}\"\n",
    "3. for loop\n",
    "4. if statement \n",
    "5. modulo operator %"
   ]
  },
  {
   "cell_type": "code",
   "execution_count": 8,
   "metadata": {},
   "outputs": [
    {
     "name": "stdout",
     "output_type": "stream",
     "text": [
      "Yes, 5 is a prime number.\n",
      "No, 8 is not a prime number.\n"
     ]
    }
   ],
   "source": [
    "i = 5\n",
    "\n",
    "print(f\"Yes, {i} is a prime number.\")\n",
    "\n",
    "i = 8\n",
    "\n",
    "print(f\"No, {i} is not a prime number.\")"
   ]
  },
  {
   "cell_type": "code",
   "execution_count": null,
   "metadata": {},
   "outputs": [],
   "source": [
    "# 8\n",
    "\n",
    "# If 8 is prime: then it is only divisible by 1 and 8, hence not divisible by 2, 3, 4, 5, 6, or 7\n",
    "\n",
    "# Check: if 8 is divisible by 2, 3, 4, 5, 6, or 7 -> 8 is divisible by 2 -> 8 is not prime\n",
    "\n",
    "8 % 3\n",
    "\n",
    "# We want the remainder when 8 is divided by 3"
   ]
  },
  {
   "cell_type": "code",
   "execution_count": 8,
   "metadata": {},
   "outputs": [],
   "source": [
    "x = 97\n",
    "\n",
    "i = 2\n",
    "while i <= x-1: \n",
    "    \n",
    "    if x % i == 0:\n",
    "        print(\"No, not prime!\")\n",
    "\n",
    "    i = i + 1\n",
    "\n"
   ]
  },
  {
   "cell_type": "code",
   "execution_count": null,
   "metadata": {},
   "outputs": [],
   "source": []
  }
 ],
 "metadata": {
  "kernelspec": {
   "display_name": "Python 3",
   "language": "python",
   "name": "python3"
  },
  "language_info": {
   "codemirror_mode": {
    "name": "ipython",
    "version": 3
   },
   "file_extension": ".py",
   "mimetype": "text/x-python",
   "name": "python",
   "nbconvert_exporter": "python",
   "pygments_lexer": "ipython3",
   "version": "3.9.6"
  }
 },
 "nbformat": 4,
 "nbformat_minor": 2
}
